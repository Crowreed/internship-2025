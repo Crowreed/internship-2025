{
 "cells": [
  {
   "cell_type": "code",
   "execution_count": 22,
   "id": "2af5b2b4",
   "metadata": {},
   "outputs": [
    {
     "name": "stdout",
     "output_type": "stream",
     "text": [
      "1\n"
     ]
    }
   ],
   "source": [
    "# Définition d'anneaux de polynômes univariés sur des corps finis pour des tests (rajouter les autres corps pq pas les extensions?)\n",
    "Ring_A.<x> = PolynomialRing(GF(2))\n",
    "Ring_B.<x> = PolynomialRing(GF(3))\n",
    "Ring_C.<x> = PolynomialRing(GF(5))\n",
    "Ring_D.<x> = PolynomialRing(GF(2^2))\n",
    "Ring_E.<x> = PolynomialRing(GF(3^2))\n",
    "Ring_F.<x> = PolynomialRing(GF(5^2))\n",
    "\n",
    "# Définition de matrices à coefficients dans les anneaux de polynômes pour des tests.\n",
    "\n",
    "Matrix_A = Matrix(Ring_A, [[1, 0, 1, 1],\n",
    "                           [x, 1, 1+x, 0],\n",
    "                           [1, x^2+x^3, x, 0],\n",
    "                           [x^2, 0, x^3+x^4, 0]])\n",
    "\n",
    "Vector_s = vector(ZZ, [1, 0, 0, 1])"
   ]
  },
  {
   "cell_type": "code",
   "execution_count": 29,
   "id": "ece8df9c",
   "metadata": {},
   "outputs": [],
   "source": [
    "def row_degree(M):\n",
    "    \"\"\"\n",
    "    Calcule le degré maximal des polynômes de chaque ligne d'une matrice M.\n",
    "\n",
    "    Arguments :\n",
    "    M -- une matrice dont les entrées sont des polynômes\n",
    "\n",
    "    Retourne :\n",
    "    Une matrice 1 × r contenant les degrés maximaux de chaque ligne.\n",
    "    \"\"\"\n",
    "    r = M.nrows()  # Nombre de lignes\n",
    "    c = M.ncols()  # Nombre de colonnes\n",
    "\n",
    "    # Création d'une matrice 1 x r pour stocker les degrés maximaux\n",
    "    row_degree = Matrix(ZZ, 1, r)\n",
    "\n",
    "    # Parcours des lignes pour trouver le degré maximal de chaque ligne\n",
    "    for i in range(r):\n",
    "        row_degree[0, i] = max(M[i, j].degree() for j in range(c))  # Calcul du degré max de la ligne i\n",
    "\n",
    "    return row_degree\n",
    "\n",
    "def shifted_row_degree(M, s):\n",
    "    \"\"\"\n",
    "    Calcule le degré maximal des polynômes de chaque ligne d'une matrice M, en appliquant un décalage spécifique à chaque ligne.\n",
    "\n",
    "    Arguments :\n",
    "    M -- une matrice dont les entrées sont des polynômes\n",
    "    s -- un vecteur contenant les valeurs de décalage (shift) pour chaque ligne\n",
    "\n",
    "    Retourne :\n",
    "    Une matrice 1 × r contenant les degrés maximaux de chaque ligne après application du décalage.\n",
    "    \"\"\"\n",
    "    r = M.nrows()  # Nombre de lignes\n",
    "    c = M.ncols()  # Nombre de colonnes\n",
    "\n",
    "    # Création d'une matrice 1 x r pour stocker les degrés maximaux\n",
    "    shifted_row_degree = Matrix(ZZ, 1, r)\n",
    "\n",
    "    # Parcours des lignes pour trouver le degré maximal de chaque ligne\n",
    "    for i in range(r):\n",
    "        shifted_row_degree[0, i] = max((M[i, j].degree()+s[j]) for j in range(c))  # Calcul du degré max de la ligne i\n",
    "\n",
    "    return shifted_row_degree    "
   ]
  },
  {
   "cell_type": "code",
   "execution_count": 30,
   "id": "ea2efa7d",
   "metadata": {},
   "outputs": [
    {
     "data": {
      "text/plain": [
       "[1 2 3 4]"
      ]
     },
     "execution_count": 30,
     "metadata": {},
     "output_type": "execute_result"
    }
   ],
   "source": [
    "row_degree(Matrix_A)\n",
    "shifted_row_degree(Matrix_A, Vector_s)"
   ]
  },
  {
   "cell_type": "code",
   "execution_count": 29,
   "id": "ad8dd53d",
   "metadata": {},
   "outputs": [],
   "source": [
    "def proj(u, v):\n",
    "    \"\"\"\n",
    "    Calcule la projection orthogonale du vecteur v sur le vecteur u.\n",
    "\n",
    "    La projection orthogonale proj(u, v) est donnée par la formule :\n",
    "    proj(u, v) = (u . v / u . u) * u\n",
    "    où '.' désigne le produit scalaire. Ce calcul donne la composante de v dans \n",
    "    la direction de u, c'est-à-dire la projection de v sur la droite définie par u.\n",
    "\n",
    "    Arguments :\n",
    "    u : Vecteur sur lequel projeter le vecteur v.\n",
    "    v : Vecteur à projeter.\n",
    "\n",
    "    Retourne :\n",
    "    Un vecteur représentant la projection orthogonale de v sur u.\n",
    "    \"\"\"\n",
    "    return u * u.dot_product(v) / u.dot_product(u)"
   ]
  },
  {
   "cell_type": "code",
   "execution_count": 43,
   "id": "2c6357d5",
   "metadata": {},
   "outputs": [
    {
     "data": {
      "text/plain": [
       "(3, 6, 9)"
      ]
     },
     "execution_count": 43,
     "metadata": {},
     "output_type": "execute_result"
    }
   ],
   "source": [
    "v*3"
   ]
  },
  {
   "cell_type": "code",
   "execution_count": 89,
   "id": "d50cbfbc",
   "metadata": {},
   "outputs": [
    {
     "data": {
      "text/plain": [
       "\\left(\\begin{array}{rrrr}\n",
       "0 & 1 & 3 & 4\n",
       "\\end{array}\\right)"
      ]
     },
     "execution_count": 89,
     "metadata": {},
     "output_type": "execute_result"
    }
   ],
   "source": [
    "latex(row_degree(Matrix_A))"
   ]
  },
  {
   "cell_type": "code",
   "execution_count": 86,
   "id": "559c545b",
   "metadata": {},
   "outputs": [],
   "source": [
    "row_degree?"
   ]
  },
  {
   "cell_type": "code",
   "execution_count": 37,
   "id": "0ad85aa5",
   "metadata": {},
   "outputs": [
    {
     "data": {
      "text/plain": [
       "[  3.00000000000000 -0.500000000000000]\n",
       "[  1.00000000000000   1.50000000000000]"
      ]
     },
     "execution_count": 37,
     "metadata": {},
     "output_type": "execute_result"
    }
   ],
   "source": [
    "M = Matrix(RR, [[3, 1],\n",
    "                [1, 2]])#il vaut mieux travailler avec une matrice\n",
    "\n",
    "def Gram_Schmidt(V):\n",
    "    \"\"\"\n",
    "    Applique l'algorithme de Gram-Schmidt pour orthogonaliser un ensemble de vecteurs.\n",
    "\n",
    "    L'algorithme de Gram-Schmidt prend en entrée une liste de vecteurs linéairement indépendants\n",
    "    et les transforme en un ensemble de vecteurs orthogonaux. La sortie est une matrice où chaque\n",
    "    colonne est un vecteur orthogonal par rapport aux précédents.\n",
    "\n",
    "    Arguments :\n",
    "    V : Matrice de vecteurs (de dimension n) à orthogonaliser.\n",
    "        Chaque colonne de V représente un vecteur de l'ensemble initial.\n",
    "\n",
    "    Retourne :\n",
    "    Une matrice U contenant les vecteurs orthogonaux obtenus après l'orthogonalisation.\n",
    "    La matrice U est de même taille que V mais avec des vecteurs orthogonaux.\n",
    "\n",
    "    Exemple :\n",
    "    Si V est une matrice 2x2, Gram_Schmidt renverra une matrice 2x2 avec des colonnes orthogonales.\n",
    "    \"\"\"\n",
    "    \n",
    "    # Initialisation de la matrice U pour stocker les vecteurs orthogonaux\n",
    "    U = Matrix(RR, 2, 2)\n",
    "    U[0] = V[0]  # Le premier vecteur de V est copié dans U\n",
    "\n",
    "    # Processus de Gram-Schmidt pour chaque vecteur de V\n",
    "    for k in range(2):\n",
    "        # Soustraction des projections sur les vecteurs précédemment orthogonalisés\n",
    "        U[k] = V[k] - sum(proj(U[j], V[k]) for j in range(k))\n",
    "\n",
    "    # Retourne la matrice des vecteurs orthogonaux transposée\n",
    "    return U.transpose()\n",
    "\n",
    "# Exemple d'utilisation :\n",
    "# Gram_Schmidt(V) renvoie une matrice contenant les vecteurs orthogonaux.\n",
    "\n",
    "Gram_Schmidt((u, v))"
   ]
  },
  {
   "cell_type": "code",
   "execution_count": 38,
   "id": "c03a57c1-6377-4464-8bbd-9a32b6fcea0e",
   "metadata": {},
   "outputs": [
    {
     "data": {
      "text/plain": [
       "[1, 2]"
      ]
     },
     "execution_count": 38,
     "metadata": {},
     "output_type": "execute_result"
    }
   ],
   "source": [
    "from sage.plot.point import Point\n",
    "P = Point([1,2],[2,3],{'alpha':.5})\n",
    "P\n",
    "P.options()['alpha']\n",
    "P.xdata"
   ]
  },
  {
   "cell_type": "code",
   "execution_count": 78,
   "id": "cc492ec3-2631-48c3-a975-7bcd1d1a25da",
   "metadata": {},
   "outputs": [
    {
     "data": {
      "image/png": "[encoded data removed]",
      "text/plain": [
       "Graphics object consisting of 29 graphics primitives"
      ]
     },
     "metadata": {},
     "output_type": "display_data"
    }
   ],
   "source": [
    "# Afficher plusieurs points sans les axes\n",
    "graphic = Graphics()\n",
    "for x in range(-5, 8):\n",
    "    graphic += line([(x, 0), (x, 12)], color='black', thickness=0.4)\n",
    "    \n",
    "for x in range(0, 13):\n",
    "    graphic += line([(-5, x), (7, x)], color='black', thickness=0.4)\n",
    "\n",
    "graphic += points([(2*i-j, 3*i+j) for i in range(-5, 12) for j in range(-5, 12) if 7>=2*i-j>=-5 and 0<=3*i+j<=12], color='red', size=20)\n",
    "\n",
    "graphic += arrow((1, 4), (3, 7), color='blue', width=1)\n",
    "graphic += arrow((1, 4), (0, 5), color='blue', width=1)\n",
    "\n",
    "\n",
    "\n",
    "p = plot(graphic)\n",
    "\n",
    "p.show(axes=False, aspect_ratio=1)"
   ]
  },
  {
   "cell_type": "code",
   "execution_count": 86,
   "id": "da74cef6-d8a0-4f58-aefe-a56933bb9319",
   "metadata": {},
   "outputs": [
    {
     "data": {
      "image/png": "[encoded data removed]",
      "text/plain": [
       "Graphics object consisting of 29 graphics primitives"
      ]
     },
     "metadata": {},
     "output_type": "display_data"
    }
   ],
   "source": [
    "# Afficher plusieurs points sans les axes\n",
    "graphic = Graphics()\n",
    "for x in range(-5, 8):\n",
    "    graphic += line([(x, 0), (x, 12)], color='black', thickness=0.4)\n",
    "    \n",
    "for x in range(0, 13):\n",
    "    graphic += line([(-5, x), (7, x)], color='black', thickness=0.4)\n",
    "\n",
    "graphic += points([(2*i-j, 3*i+j) for i in range(-5, 12) for j in range(-5, 12) if 7>=2*i-j>=-5 and 0<=3*i+j<=12], color='red', size=20)\n",
    "\n",
    "graphic += arrow((1, 4), (3, 7), color='blue', width=1)\n",
    "graphic += arrow((1, 4), (2, 8), color='blue', width=1)\n",
    "\n",
    "\n",
    "p = plot(graphic)\n",
    "\n",
    "p.show(axes=False, aspect_ratio=1)\n",
    "\n",
    "p.save(\"mon_graphique.png\", dpi=300, axes=False, aspect_ratio=1)\n",
    "\n"
   ]
  },
  {
   "cell_type": "code",
   "execution_count": null,
   "id": "077fbf4f-7fbf-4c20-a1dc-54237566eb8a",
   "metadata": {},
   "outputs": [],
   "source": []
  }
 ],
 "metadata": {
  "kernelspec": {
   "display_name": "SageMath 9.5",
   "language": "sage",
   "name": "sagemath"
  },
  "language_info": {
   "codemirror_mode": {
    "name": "ipython",
    "version": 3
   },
   "file_extension": ".py",
   "mimetype": "text/x-python",
   "name": "python",
   "nbconvert_exporter": "python",
   "pygments_lexer": "ipython3",
   "version": "3.10.12"
  }
 },
 "nbformat": 4,
 "nbformat_minor": 5
}
