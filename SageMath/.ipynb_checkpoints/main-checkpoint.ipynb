{
 "cells": [
  {
   "cell_type": "code",
   "execution_count": 41,
   "id": "2af5b2b4",
   "metadata": {},
   "outputs": [],
   "source": [
    "# Définition d'anneaux de polynômes univariés sur des corps finis pour des tests (rajouter les autres corps pq pas les extensions?)\n",
    "Ring_A.<x> = PolynomialRing(GF(2))\n",
    "Ring_B.<x> = PolynomialRing(GF(3))\n",
    "Ring_C.<x> = PolynomialRing(GF(5))\n",
    "Ring_D.<x> = PolynomialRing(GF(2^2))\n",
    "Ring_E.<x> = PolynomialRing(GF(3^2))\n",
    "Ring_F.<x> = PolynomialRing(GF(5^2))\n",
    "\n",
    "# Définition de matrices à coefficients dans les anneaux de polynômes pour des tests.\n",
    "\n"
   ]
  },
  {
   "cell_type": "code",
   "execution_count": 32,
   "id": "be871d28",
   "metadata": {},
   "outputs": [
    {
     "data": {
      "text/plain": [
       "[5*x + 1     x^2]\n",
       "[    x^3       0]"
      ]
     },
     "execution_count": 32,
     "metadata": {},
     "output_type": "execute_result"
    }
   ],
   "source": [
    "M"
   ]
  },
  {
   "cell_type": "code",
   "execution_count": 33,
   "id": "53166a1c",
   "metadata": {},
   "outputs": [
    {
     "data": {
      "text/plain": [
       "5*x + 1"
      ]
     },
     "execution_count": 33,
     "metadata": {},
     "output_type": "execute_result"
    }
   ],
   "source": [
    "M[0][0]"
   ]
  },
  {
   "cell_type": "code",
   "execution_count": 34,
   "id": "64ca6e8e",
   "metadata": {},
   "outputs": [
    {
     "data": {
      "text/plain": [
       "2"
      ]
     },
     "execution_count": 34,
     "metadata": {},
     "output_type": "execute_result"
    }
   ],
   "source": [
    "max(M[0, i].degree() for i in range (2))"
   ]
  },
  {
   "cell_type": "code",
   "execution_count": 39,
   "id": "afd51173",
   "metadata": {},
   "outputs": [],
   "source": [
    "def row_degree(M):\n",
    "    print(\"début\")\n",
    "    r = M.nrows()\n",
    "    c = M.ncols()\n",
    "    \n",
    "    row_degree = Matrix(F, (1, c))\n",
    "    \n",
    "    for i in range (r):\n",
    "        row_degree[0, i] = max(M[i, j].degree() for j in range (c))\n",
    "        \n",
    "    print(row_degree)"
   ]
  },
  {
   "cell_type": "code",
   "execution_count": 40,
   "id": "b7ae1aa8",
   "metadata": {},
   "outputs": [
    {
     "name": "stdout",
     "output_type": "stream",
     "text": [
      "début\n",
      "[2 3]\n"
     ]
    }
   ],
   "source": [
    "row_degree(M)"
   ]
  },
  {
   "cell_type": "code",
   "execution_count": null,
   "id": "9c1170f7",
   "metadata": {},
   "outputs": [],
   "source": [
    "#On va coder Gramm-Schmidt\n"
   ]
  }
 ],
 "metadata": {
  "kernelspec": {
   "display_name": "SageMath 9.5",
   "language": "sage",
   "name": "sagemath"
  },
  "language_info": {
   "codemirror_mode": {
    "name": "ipython",
    "version": 3
   },
   "file_extension": ".py",
   "mimetype": "text/x-python",
   "name": "python",
   "nbconvert_exporter": "python",
   "pygments_lexer": "ipython3",
   "version": "3.10.12"
  }
 },
 "nbformat": 4,
 "nbformat_minor": 5
}
