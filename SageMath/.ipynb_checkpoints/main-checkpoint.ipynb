{
 "cells": [
  {
   "cell_type": "code",
   "execution_count": 44,
   "id": "2af5b2b4",
   "metadata": {},
   "outputs": [],
   "source": [
    "# Définition d'anneaux de polynômes univariés sur des corps finis pour des tests (rajouter les autres corps pq pas les extensions?)\n",
    "Ring_A.<x> = PolynomialRing(GF(2))\n",
    "Ring_B.<x> = PolynomialRing(GF(3))\n",
    "Ring_C.<x> = PolynomialRing(GF(5))\n",
    "Ring_D.<x> = PolynomialRing(GF(2^2))\n",
    "Ring_E.<x> = PolynomialRing(GF(3^2))\n",
    "Ring_F.<x> = PolynomialRing(GF(5^2))\n",
    "\n",
    "# Définition de matrices à coefficients dans les anneaux de polynômes pour des tests.\n",
    "\n",
    "Matrix_A = Matrix(Ring_A, [[1, 0, 1, 1],\n",
    "                           [x, 1, 1+x, 0],\n",
    "                           [1, x^2+x^3, x, 0],\n",
    "                           [x^2, 0, x^3+x^4, 0]])"
   ]
  },
  {
   "cell_type": "code",
   "execution_count": 85,
   "id": "ece8df9c",
   "metadata": {},
   "outputs": [],
   "source": [
    "def row_degree(M):\n",
    "    \"\"\"\n",
    "    Calcule le degré maximal des polynômes de chaque ligne d'une matrice M.\n",
    "\n",
    "    Arguments :\n",
    "    M -- une matrice dont les entrées sont des polynômes\n",
    "\n",
    "    Retourne :\n",
    "    Une matrice 1 × r contenant les degrés maximaux de chaque ligne.\n",
    "    \"\"\"\n",
    "    r = M.nrows()  # Nombre de lignes\n",
    "    c = M.ncols()  # Nombre de colonnes\n",
    "\n",
    "    # Création d'une matrice 1 x r pour stocker les degrés maximaux\n",
    "    row_degree = Matrix(ZZ, 1, r)\n",
    "\n",
    "    # Parcours des lignes pour trouver le degré maximal de chaque ligne\n",
    "    for i in range(r):\n",
    "        row_degree[0, i] = max(M[i, j].degree() for j in range(c))  # Calcul du degré max de la ligne i\n",
    "\n",
    "    return row_degree\n"
   ]
  },
  {
   "cell_type": "code",
   "execution_count": 87,
   "id": "ea2efa7d",
   "metadata": {},
   "outputs": [
    {
     "data": {
      "text/plain": [
       "[0 1 3 4]"
      ]
     },
     "execution_count": 87,
     "metadata": {},
     "output_type": "execute_result"
    }
   ],
   "source": [
    "row_degree(Matrix_A)"
   ]
  },
  {
   "cell_type": "code",
   "execution_count": 83,
   "id": "ad8dd53d",
   "metadata": {},
   "outputs": [],
   "source": [
    "#On va coder Gramm-Schmidt\n",
    "\n",
    "v = vector([1, 2, 3])\n"
   ]
  },
  {
   "cell_type": "code",
   "execution_count": 43,
   "id": "2c6357d5",
   "metadata": {},
   "outputs": [
    {
     "data": {
      "text/plain": [
       "(3, 6, 9)"
      ]
     },
     "execution_count": 43,
     "metadata": {},
     "output_type": "execute_result"
    }
   ],
   "source": [
    "v*3"
   ]
  },
  {
   "cell_type": "code",
   "execution_count": 89,
   "id": "d50cbfbc",
   "metadata": {},
   "outputs": [
    {
     "data": {
      "text/plain": [
       "\\left(\\begin{array}{rrrr}\n",
       "0 & 1 & 3 & 4\n",
       "\\end{array}\\right)"
      ]
     },
     "execution_count": 89,
     "metadata": {},
     "output_type": "execute_result"
    }
   ],
   "source": [
    "latex(row_degree(Matrix_A))"
   ]
  },
  {
   "cell_type": "code",
   "execution_count": 86,
   "id": "559c545b",
   "metadata": {},
   "outputs": [],
   "source": [
    "row_degree?"
   ]
  },
  {
   "cell_type": "code",
   "execution_count": null,
   "id": "0ad85aa5",
   "metadata": {},
   "outputs": [],
   "source": []
  }
 ],
 "metadata": {
  "kernelspec": {
   "display_name": "SageMath 9.5",
   "language": "sage",
   "name": "sagemath"
  },
  "language_info": {
   "codemirror_mode": {
    "name": "ipython",
    "version": 3
   },
   "file_extension": ".py",
   "mimetype": "text/x-python",
   "name": "python",
   "nbconvert_exporter": "python",
   "pygments_lexer": "ipython3",
   "version": "3.10.12"
  }
 },
 "nbformat": 4,
 "nbformat_minor": 5
}
