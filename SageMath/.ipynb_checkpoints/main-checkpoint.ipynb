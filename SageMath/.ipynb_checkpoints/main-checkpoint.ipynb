{
 "cells": [
  {
   "cell_type": "code",
   "execution_count": 44,
   "id": "2af5b2b4",
   "metadata": {},
   "outputs": [],
   "source": [
    "# Définition d'anneaux de polynômes univariés sur des corps finis pour des tests (rajouter les autres corps pq pas les extensions?)\n",
    "Ring_A.<x> = PolynomialRing(GF(2))\n",
    "Ring_B.<x> = PolynomialRing(GF(3))\n",
    "Ring_C.<x> = PolynomialRing(GF(5))\n",
    "Ring_D.<x> = PolynomialRing(GF(2^2))\n",
    "Ring_E.<x> = PolynomialRing(GF(3^2))\n",
    "Ring_F.<x> = PolynomialRing(GF(5^2))\n",
    "\n",
    "# Définition de matrices à coefficients dans les anneaux de polynômes pour des tests.\n",
    "\n",
    "Matrix_A = Matrix(Ring_A, [[1, 0, 1, 1],\n",
    "                           [x, 1, 1+x, 0],\n",
    "                           [1, x^2+x^3, x, 0],\n",
    "                           [x^2, 0, x^3+x^4, 0]])"
   ]
  },
  {
   "cell_type": "code",
   "execution_count": 85,
   "id": "ece8df9c",
   "metadata": {},
   "outputs": [],
   "source": [
    "def row_degree(M):\n",
    "    \"\"\"\n",
    "    Calcule le degré maximal des polynômes de chaque ligne d'une matrice M.\n",
    "\n",
    "    Arguments :\n",
    "    M -- une matrice dont les entrées sont des polynômes\n",
    "\n",
    "    Retourne :\n",
    "    Une matrice 1 × r contenant les degrés maximaux de chaque ligne.\n",
    "    \"\"\"\n",
    "    r = M.nrows()  # Nombre de lignes\n",
    "    c = M.ncols()  # Nombre de colonnes\n",
    "\n",
    "    # Création d'une matrice 1 x r pour stocker les degrés maximaux\n",
    "    row_degree = Matrix(ZZ, 1, r)\n",
    "\n",
    "    # Parcours des lignes pour trouver le degré maximal de chaque ligne\n",
    "    for i in range(r):\n",
    "        row_degree[0, i] = max(M[i, j].degree() for j in range(c))  # Calcul du degré max de la ligne i\n",
    "\n",
    "    return row_degree\n"
   ]
  },
  {
   "cell_type": "code",
   "execution_count": 87,
   "id": "ea2efa7d",
   "metadata": {},
   "outputs": [
    {
     "data": {
      "text/plain": [
       "[0 1 3 4]"
      ]
     },
     "execution_count": 87,
     "metadata": {},
     "output_type": "execute_result"
    }
   ],
   "source": [
    "row_degree(Matrix_A)"
   ]
  },
  {
   "cell_type": "code",
   "execution_count": 29,
   "id": "ad8dd53d",
   "metadata": {},
   "outputs": [],
   "source": [
    "def proj(u, v):\n",
    "    \"\"\"\n",
    "    Calcule la projection orthogonale du vecteur v sur le vecteur u.\n",
    "\n",
    "    La projection orthogonale proj(u, v) est donnée par la formule :\n",
    "    proj(u, v) = (u . v / u . u) * u\n",
    "    où '.' désigne le produit scalaire. Ce calcul donne la composante de v dans \n",
    "    la direction de u, c'est-à-dire la projection de v sur la droite définie par u.\n",
    "\n",
    "    Arguments :\n",
    "    u : Vecteur sur lequel projeter le vecteur v.\n",
    "    v : Vecteur à projeter.\n",
    "\n",
    "    Retourne :\n",
    "    Un vecteur représentant la projection orthogonale de v sur u.\n",
    "    \"\"\"\n",
    "    return u * u.dot_product(v) / u.dot_product(u)"
   ]
  },
  {
   "cell_type": "code",
   "execution_count": 43,
   "id": "2c6357d5",
   "metadata": {},
   "outputs": [
    {
     "data": {
      "text/plain": [
       "(3, 6, 9)"
      ]
     },
     "execution_count": 43,
     "metadata": {},
     "output_type": "execute_result"
    }
   ],
   "source": [
    "v*3"
   ]
  },
  {
   "cell_type": "code",
   "execution_count": 89,
   "id": "d50cbfbc",
   "metadata": {},
   "outputs": [
    {
     "data": {
      "text/plain": [
       "\\left(\\begin{array}{rrrr}\n",
       "0 & 1 & 3 & 4\n",
       "\\end{array}\\right)"
      ]
     },
     "execution_count": 89,
     "metadata": {},
     "output_type": "execute_result"
    }
   ],
   "source": [
    "latex(row_degree(Matrix_A))"
   ]
  },
  {
   "cell_type": "code",
   "execution_count": 86,
   "id": "559c545b",
   "metadata": {},
   "outputs": [],
   "source": [
    "row_degree?"
   ]
  },
  {
   "cell_type": "code",
   "execution_count": 37,
   "id": "0ad85aa5",
   "metadata": {},
   "outputs": [
    {
     "data": {
      "text/plain": [
       "[  3.00000000000000 -0.500000000000000]\n",
       "[  1.00000000000000   1.50000000000000]"
      ]
     },
     "execution_count": 37,
     "metadata": {},
     "output_type": "execute_result"
    }
   ],
   "source": [
    "M = Matrix(RR, [[3, 1],\n",
    "                [1, 2]])#il vaut mieux travailler avec une matrice\n",
    "\n",
    "def Gram_Schmidt(V):\n",
    "    \"\"\"\n",
    "    Applique l'algorithme de Gram-Schmidt pour orthogonaliser un ensemble de vecteurs.\n",
    "\n",
    "    L'algorithme de Gram-Schmidt prend en entrée une liste de vecteurs linéairement indépendants\n",
    "    et les transforme en un ensemble de vecteurs orthogonaux. La sortie est une matrice où chaque\n",
    "    colonne est un vecteur orthogonal par rapport aux précédents.\n",
    "\n",
    "    Arguments :\n",
    "    V : Matrice de vecteurs (de dimension n) à orthogonaliser.\n",
    "        Chaque colonne de V représente un vecteur de l'ensemble initial.\n",
    "\n",
    "    Retourne :\n",
    "    Une matrice U contenant les vecteurs orthogonaux obtenus après l'orthogonalisation.\n",
    "    La matrice U est de même taille que V mais avec des vecteurs orthogonaux.\n",
    "\n",
    "    Exemple :\n",
    "    Si V est une matrice 2x2, Gram_Schmidt renverra une matrice 2x2 avec des colonnes orthogonales.\n",
    "    \"\"\"\n",
    "    \n",
    "    # Initialisation de la matrice U pour stocker les vecteurs orthogonaux\n",
    "    U = Matrix(RR, 2, 2)\n",
    "    U[0] = V[0]  # Le premier vecteur de V est copié dans U\n",
    "\n",
    "    # Processus de Gram-Schmidt pour chaque vecteur de V\n",
    "    for k in range(2):\n",
    "        # Soustraction des projections sur les vecteurs précédemment orthogonalisés\n",
    "        U[k] = V[k] - sum(proj(U[j], V[k]) for j in range(k))\n",
    "\n",
    "    # Retourne la matrice des vecteurs orthogonaux transposée\n",
    "    return U.transpose()\n",
    "\n",
    "# Exemple d'utilisation :\n",
    "# Gram_Schmidt(V) renvoie une matrice contenant les vecteurs orthogonaux.\n",
    "\n",
    "Gram_Schmidt((u, v))"
   ]
  },
  {
   "cell_type": "code",
   "execution_count": 6,
   "id": "4c46888b-4263-49b3-8b9f-3f4517031a1b",
   "metadata": {},
   "outputs": [
    {
     "data": {
      "image/png": "[encoded data removed]",
      "text/plain": [
       "Graphics object consisting of 22 graphics primitives"
      ]
     },
     "metadata": {},
     "output_type": "display_data"
    }
   ],
   "source": [
    "# Création du graphique\n",
    "g = Graphics()\n",
    "\n",
    "# Tracer des lignes horizontales et verticales pour créer un réseau euclidien\n",
    "for x in range(-5, 6):\n",
    "    g += line([(x+1, -5), (x, 5)], color='black')\n",
    "    g += line([(-5, x), (5, x+2)], color='black')\n",
    "\n",
    "# Affichage du graphique\n",
    "g.show()\n"
   ]
  },
  {
   "cell_type": "code",
   "execution_count": 7,
   "id": "2932fe1d-923e-4a79-aeeb-fedacd654976",
   "metadata": {},
   "outputs": [
    {
     "ename": "ModuleNotFoundError",
     "evalue": "No module named 'sage.plot.plot2d'",
     "output_type": "error",
     "traceback": [
      "\u001b[0;31m---------------------------------------------------------------------------\u001b[0m",
      "\u001b[0;31mModuleNotFoundError\u001b[0m                       Traceback (most recent call last)",
      "\u001b[0;32m/tmp/ipykernel_169800/2710846058.py\u001b[0m in \u001b[0;36m<module>\u001b[0;34m\u001b[0m\n\u001b[1;32m      1\u001b[0m \u001b[0;31m# Importation de la bibliothèque nécessaire\u001b[0m\u001b[0;34m\u001b[0m\u001b[0;34m\u001b[0m\u001b[0m\n\u001b[0;32m----> 2\u001b[0;31m \u001b[0;32mfrom\u001b[0m \u001b[0msage\u001b[0m\u001b[0;34m.\u001b[0m\u001b[0mplot\u001b[0m\u001b[0;34m.\u001b[0m\u001b[0mplot2d\u001b[0m\u001b[0;34m.\u001b[0m\u001b[0marrow\u001b[0m \u001b[0;32mimport\u001b[0m \u001b[0mArrow\u001b[0m\u001b[0;34m\u001b[0m\u001b[0;34m\u001b[0m\u001b[0m\n\u001b[0m\u001b[1;32m      3\u001b[0m \u001b[0;34m\u001b[0m\u001b[0m\n\u001b[1;32m      4\u001b[0m \u001b[0;31m# Définition du vecteur\u001b[0m\u001b[0;34m\u001b[0m\u001b[0;34m\u001b[0m\u001b[0m\n\u001b[1;32m      5\u001b[0m \u001b[0mv\u001b[0m \u001b[0;34m=\u001b[0m \u001b[0mvector\u001b[0m\u001b[0;34m(\u001b[0m\u001b[0;34m[\u001b[0m\u001b[0mInteger\u001b[0m\u001b[0;34m(\u001b[0m\u001b[0;36m3\u001b[0m\u001b[0;34m)\u001b[0m\u001b[0;34m,\u001b[0m \u001b[0mInteger\u001b[0m\u001b[0;34m(\u001b[0m\u001b[0;36m4\u001b[0m\u001b[0;34m)\u001b[0m\u001b[0;34m]\u001b[0m\u001b[0;34m)\u001b[0m\u001b[0;34m\u001b[0m\u001b[0;34m\u001b[0m\u001b[0m\n",
      "\u001b[0;31mModuleNotFoundError\u001b[0m: No module named 'sage.plot.plot2d'"
     ]
    }
   ],
   "source": [
    "# Importation de la bibliothèque nécessaire\n",
    "from sage.plot.plot2d.arrow import Arrow\n",
    "\n",
    "# Définition du vecteur\n",
    "v = vector([3, 4])\n",
    "\n",
    "# Tracer le vecteur\n",
    "arrow = Arrow((0, 0), v)\n",
    "arrow.show()\n"
   ]
  },
  {
   "cell_type": "code",
   "execution_count": 8,
   "id": "4e012234-0eb0-4778-af34-7e7d52682959",
   "metadata": {},
   "outputs": [
    {
     "data": {
      "text/plain": [
       "{'cmap': 'winter'}"
      ]
     },
     "execution_count": 8,
     "metadata": {},
     "output_type": "execute_result"
    }
   ],
   "source": [
    "from sage.plot.matrix_plot import MatrixPlot\n",
    "M = MatrixPlot([[1,3],[2,4]],(1,2),(2,3),options={'cmap':'winter'})\n",
    "M\n",
    "M.yrange\n",
    "M.xy_data_array\n",
    "M.options()"
   ]
  },
  {
   "cell_type": "code",
   "execution_count": 9,
   "id": "60960e7e-ff52-496d-8b42-2f566327eda7",
   "metadata": {},
   "outputs": [
    {
     "ename": "AttributeError",
     "evalue": "'MatrixPlot' object has no attribute 'show'",
     "output_type": "error",
     "traceback": [
      "\u001b[0;31m---------------------------------------------------------------------------\u001b[0m",
      "\u001b[0;31mAttributeError\u001b[0m                            Traceback (most recent call last)",
      "\u001b[0;32m/tmp/ipykernel_169800/2142549490.py\u001b[0m in \u001b[0;36m<module>\u001b[0;34m\u001b[0m\n\u001b[0;32m----> 1\u001b[0;31m \u001b[0mM\u001b[0m\u001b[0;34m.\u001b[0m\u001b[0mshow\u001b[0m\u001b[0;34m(\u001b[0m\u001b[0;34m)\u001b[0m\u001b[0;34m\u001b[0m\u001b[0;34m\u001b[0m\u001b[0m\n\u001b[0m",
      "\u001b[0;31mAttributeError\u001b[0m: 'MatrixPlot' object has no attribute 'show'"
     ]
    }
   ],
   "source": [
    "M.show()"
   ]
  },
  {
   "cell_type": "code",
   "execution_count": 11,
   "id": "4f7ef760-0a4a-4410-ad28-13bc12ee4ab5",
   "metadata": {},
   "outputs": [],
   "source": [
    "arrow((0,0), (1,1))\n",
    "g.set_aspect_ratio(1)"
   ]
  },
  {
   "cell_type": "code",
   "execution_count": 38,
   "id": "c03a57c1-6377-4464-8bbd-9a32b6fcea0e",
   "metadata": {},
   "outputs": [
    {
     "data": {
      "text/plain": [
       "[1, 2]"
      ]
     },
     "execution_count": 38,
     "metadata": {},
     "output_type": "execute_result"
    }
   ],
   "source": [
    "from sage.plot.point import Point\n",
    "P = Point([1,2],[2,3],{'alpha':.5})\n",
    "P\n",
    "P.options()['alpha']\n",
    "P.xdata"
   ]
  },
  {
   "cell_type": "code",
   "execution_count": 61,
   "id": "cc492ec3-2631-48c3-a975-7bcd1d1a25da",
   "metadata": {},
   "outputs": [
    {
     "data": {
      "image/png": "[encoded data removed]",
      "text/plain": [
       "Graphics object consisting of 3 graphics primitives"
      ]
     },
     "metadata": {},
     "output_type": "display_data"
    }
   ],
   "source": [
    "# Afficher plusieurs points sans les axes\n",
    "\n",
    "lattice = points([(2*i-j, 3*i+j) for i in range(6) for j in range(6)], color='red', size=30)\n",
    "\n",
    "arrow_1 = arrow((0, 0), (2, 3), color='blue', width=2)\n",
    "arrow_2 = arrow((0, 0), (-1, 1), color='blue', width=2)\n",
    "\n",
    "p = plot(lattice + arrow_1 + arrow_2)\n",
    "\n",
    "p.show(axes=False)\n",
    "\n"
   ]
  },
  {
   "cell_type": "code",
   "execution_count": 67,
   "id": "da74cef6-d8a0-4f58-aefe-a56933bb9319",
   "metadata": {},
   "outputs": [
    {
     "data": {
      "image/png": "[encoded data removed]",
      "text/plain": [
       "Graphics object consisting of 3 graphics primitives"
      ]
     },
     "metadata": {},
     "output_type": "display_data"
    }
   ],
   "source": [
    "# Afficher plusieurs points sans les axes\n",
    "\n",
    "lattice = points([(2*i-j, 3*i+j) for i in range(6) for j in range(6)], color='red', size=30)\n",
    "\n",
    "arrow_1 = arrow((0, 0), (2, 3), color='blue', width=2)\n",
    "arrow_2 = arrow((0, 0), (1, 4), color='blue', width=2)\n",
    "\n",
    "p = plot(lattice + arrow_1 + arrow_2)\n",
    "\n",
    "p.show(axes=False)\n",
    "\n"
   ]
  },
  {
   "cell_type": "code",
   "execution_count": 70,
   "id": "2df6a799-07cf-4679-99e6-6fcb2d9c36fb",
   "metadata": {},
   "outputs": [
    {
     "data": {
      "text/plain": [
       "\u001b[0;31mType:\u001b[0m           Graphics\n",
       "\u001b[0;31mString form:\u001b[0m    Graphics object consisting of 3 graphics primitives\n",
       "\u001b[0;31mLength:\u001b[0m         3\n",
       "\u001b[0;31mFile:\u001b[0m           /usr/lib/python3/dist-packages/sage/plot/graphics.py\n",
       "\u001b[0;31mDocstring:\u001b[0m     \n",
       "   The Graphics object is an empty list of graphics objects. It is\n",
       "   useful to use this object when initializing a for loop where\n",
       "   different graphics object will be added to the empty object.\n",
       "\n",
       "   EXAMPLES:\n",
       "\n",
       "      sage: G = Graphics(); print(G)\n",
       "      Graphics object consisting of 0 graphics primitives\n",
       "      sage: c = circle((1,1), 1)\n",
       "      sage: G+=c; print(G)\n",
       "      Graphics object consisting of 1 graphics primitive\n",
       "\n",
       "   Here we make a graphic of embedded isosceles triangles, coloring\n",
       "   each one with a different color as we go:\n",
       "\n",
       "      sage: h=10; c=0.4; p=0.5\n",
       "      sage: G = Graphics()\n",
       "      sage: for x in srange(1,h+1):\n",
       "      ....:     l = [[0,x*sqrt(3)],[-x/2,-x*sqrt(3)/2],[x/2,-x*sqrt(3)/2],[0,x*sqrt(3)]]\n",
       "      ....:     G+=line(l,color=hue(c + p*(x/h)))\n",
       "      sage: G.show(figsize=[5,5])\n",
       "\n",
       "   We can change the scale of the axes in the graphics before\n",
       "   displaying.:\n",
       "\n",
       "      sage: G = plot(exp, 1, 10) # long time\n",
       "      sage: G.show(scale='semilogy') # long time\n",
       "\u001b[0;31mInit docstring:\u001b[0m\n",
       "   Create a new empty Graphics objects with all the defaults.\n",
       "\n",
       "   EXAMPLES:\n",
       "\n",
       "      sage: G = Graphics()\n"
      ]
     },
     "metadata": {},
     "output_type": "display_data"
    }
   ],
   "source": [
    "# Afficher plusieurs points sans les axes\n",
    "\n",
    "lattice = points([(2*i-j, 3*i+j) for i in range(6) for j in range(6)], color='red', size=30)\n",
    "\n",
    "arrow_1 = arrow((0, 0), (2, 3), color='blue', width=2)\n",
    "arrow_2 = arrow((0, 0), (1, 4), color='blue', width=2)\n",
    "\n",
    "p = plot(lattice + arrow_1 + arrow_2)\n",
    "\n",
    "p.show(axes=False)"
   ]
  },
  {
   "cell_type": "code",
   "execution_count": null,
   "id": "675785eb-9d30-4ded-a436-222e222c4e20",
   "metadata": {},
   "outputs": [],
   "source": [
    " "
   ]
  }
 ],
 "metadata": {
  "kernelspec": {
   "display_name": "SageMath 9.5",
   "language": "sage",
   "name": "sagemath"
  },
  "language_info": {
   "codemirror_mode": {
    "name": "ipython",
    "version": 3
   },
   "file_extension": ".py",
   "mimetype": "text/x-python",
   "name": "python",
   "nbconvert_exporter": "python",
   "pygments_lexer": "ipython3",
   "version": "3.10.12"
  }
 },
 "nbformat": 4,
 "nbformat_minor": 5
}
